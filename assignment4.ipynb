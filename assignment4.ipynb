{
 "cells": [
  {
   "cell_type": "markdown",
   "metadata": {},
   "source": [
    "Add the dependencies"
   ]
  },
  {
   "cell_type": "code",
   "execution_count": 3,
   "metadata": {},
   "outputs": [],
   "source": [
    "import pandas as pd          \n",
    "import numpy as np            \n",
    "\n",
    "import matplotlib.pyplot as plt   \n",
    "import seaborn as sns "
   ]
  },
  {
   "cell_type": "markdown",
   "metadata": {},
   "source": [
    "Import the relevant files"
   ]
  },
  {
   "cell_type": "code",
   "execution_count": 9,
   "metadata": {},
   "outputs": [
    {
     "data": {
      "text/html": [
       "<div>\n",
       "<style scoped>\n",
       "    .dataframe tbody tr th:only-of-type {\n",
       "        vertical-align: middle;\n",
       "    }\n",
       "\n",
       "    .dataframe tbody tr th {\n",
       "        vertical-align: top;\n",
       "    }\n",
       "\n",
       "    .dataframe thead th {\n",
       "        text-align: right;\n",
       "    }\n",
       "</style>\n",
       "<table border=\"1\" class=\"dataframe\">\n",
       "  <thead>\n",
       "    <tr style=\"text-align: right;\">\n",
       "      <th></th>\n",
       "      <th>Time</th>\n",
       "      <th>Open</th>\n",
       "      <th>High</th>\n",
       "      <th>Low</th>\n",
       "      <th>Last</th>\n",
       "      <th>Change</th>\n",
       "      <th>%Chg</th>\n",
       "      <th>Volume</th>\n",
       "    </tr>\n",
       "  </thead>\n",
       "  <tbody>\n",
       "    <tr>\n",
       "      <th>0</th>\n",
       "      <td>10/25/2024</td>\n",
       "      <td>229.74</td>\n",
       "      <td>233.220</td>\n",
       "      <td>229.57</td>\n",
       "      <td>231.41</td>\n",
       "      <td>0.84</td>\n",
       "      <td>+0.36%</td>\n",
       "      <td>38802300.0</td>\n",
       "    </tr>\n",
       "    <tr>\n",
       "      <th>1</th>\n",
       "      <td>10/24/2024</td>\n",
       "      <td>229.98</td>\n",
       "      <td>230.820</td>\n",
       "      <td>228.41</td>\n",
       "      <td>230.57</td>\n",
       "      <td>-0.19</td>\n",
       "      <td>-0.08%</td>\n",
       "      <td>31109500.0</td>\n",
       "    </tr>\n",
       "    <tr>\n",
       "      <th>2</th>\n",
       "      <td>10/23/2024</td>\n",
       "      <td>234.08</td>\n",
       "      <td>235.144</td>\n",
       "      <td>227.76</td>\n",
       "      <td>230.76</td>\n",
       "      <td>-5.10</td>\n",
       "      <td>-2.16%</td>\n",
       "      <td>52286900.0</td>\n",
       "    </tr>\n",
       "    <tr>\n",
       "      <th>3</th>\n",
       "      <td>10/22/2024</td>\n",
       "      <td>233.88</td>\n",
       "      <td>236.220</td>\n",
       "      <td>232.60</td>\n",
       "      <td>235.86</td>\n",
       "      <td>-0.62</td>\n",
       "      <td>-0.26%</td>\n",
       "      <td>38846500.0</td>\n",
       "    </tr>\n",
       "    <tr>\n",
       "      <th>4</th>\n",
       "      <td>10/21/2024</td>\n",
       "      <td>234.45</td>\n",
       "      <td>236.850</td>\n",
       "      <td>234.45</td>\n",
       "      <td>236.48</td>\n",
       "      <td>1.48</td>\n",
       "      <td>+0.63%</td>\n",
       "      <td>36254400.0</td>\n",
       "    </tr>\n",
       "  </tbody>\n",
       "</table>\n",
       "</div>"
      ],
      "text/plain": [
       "         Time    Open     High     Low    Last  Change    %Chg      Volume\n",
       "0  10/25/2024  229.74  233.220  229.57  231.41    0.84  +0.36%  38802300.0\n",
       "1  10/24/2024  229.98  230.820  228.41  230.57   -0.19  -0.08%  31109500.0\n",
       "2  10/23/2024  234.08  235.144  227.76  230.76   -5.10  -2.16%  52286900.0\n",
       "3  10/22/2024  233.88  236.220  232.60  235.86   -0.62  -0.26%  38846500.0\n",
       "4  10/21/2024  234.45  236.850  234.45  236.48    1.48  +0.63%  36254400.0"
      ]
     },
     "execution_count": 9,
     "metadata": {},
     "output_type": "execute_result"
    }
   ],
   "source": [
    "dataset = pd.read_csv(\"apple_stock.csv\")\n",
    "dataset.head()"
   ]
  }
 ],
 "metadata": {
  "kernelspec": {
   "display_name": "Python 3",
   "language": "python",
   "name": "python3"
  },
  "language_info": {
   "codemirror_mode": {
    "name": "ipython",
    "version": 3
   },
   "file_extension": ".py",
   "mimetype": "text/x-python",
   "name": "python",
   "nbconvert_exporter": "python",
   "pygments_lexer": "ipython3",
   "version": "3.13.0"
  }
 },
 "nbformat": 4,
 "nbformat_minor": 2
}
